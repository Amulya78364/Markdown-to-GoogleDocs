{
  "nbformat": 4,
  "nbformat_minor": 0,
  "metadata": {
    "colab": {
      "provenance": []
    },
    "kernelspec": {
      "name": "python3",
      "display_name": "Python 3"
    },
    "language_info": {
      "name": "python"
    }
  },
  "cells": [
    {
      "cell_type": "code",
      "execution_count": null,
      "metadata": {
        "colab": {
          "base_uri": "https://localhost:8080/"
        },
        "id": "mVlj0rSunFpF",
        "outputId": "5525b9f4-75fd-42e4-baa1-4b060aee5721"
      },
      "outputs": [
        {
          "output_type": "stream",
          "name": "stdout",
          "text": [
            "Requirement already satisfied: google-auth in /usr/local/lib/python3.11/dist-packages (2.27.0)\n",
            "Requirement already satisfied: google-auth-oauthlib in /usr/local/lib/python3.11/dist-packages (1.2.1)\n",
            "Requirement already satisfied: google-auth-httplib2 in /usr/local/lib/python3.11/dist-packages (0.2.0)\n",
            "Requirement already satisfied: google-api-python-client in /usr/local/lib/python3.11/dist-packages (2.155.0)\n",
            "Requirement already satisfied: cachetools<6.0,>=2.0.0 in /usr/local/lib/python3.11/dist-packages (from google-auth) (5.5.1)\n",
            "Requirement already satisfied: pyasn1-modules>=0.2.1 in /usr/local/lib/python3.11/dist-packages (from google-auth) (0.4.1)\n",
            "Requirement already satisfied: rsa<5,>=3.1.4 in /usr/local/lib/python3.11/dist-packages (from google-auth) (4.9)\n",
            "Requirement already satisfied: requests-oauthlib>=0.7.0 in /usr/local/lib/python3.11/dist-packages (from google-auth-oauthlib) (1.3.1)\n",
            "Requirement already satisfied: httplib2>=0.19.0 in /usr/local/lib/python3.11/dist-packages (from google-auth-httplib2) (0.22.0)\n",
            "Requirement already satisfied: google-api-core!=2.0.*,!=2.1.*,!=2.2.*,!=2.3.0,<3.0.0.dev0,>=1.31.5 in /usr/local/lib/python3.11/dist-packages (from google-api-python-client) (2.19.2)\n",
            "Requirement already satisfied: uritemplate<5,>=3.0.1 in /usr/local/lib/python3.11/dist-packages (from google-api-python-client) (4.1.1)\n",
            "Requirement already satisfied: googleapis-common-protos<2.0.dev0,>=1.56.2 in /usr/local/lib/python3.11/dist-packages (from google-api-core!=2.0.*,!=2.1.*,!=2.2.*,!=2.3.0,<3.0.0.dev0,>=1.31.5->google-api-python-client) (1.66.0)\n",
            "Requirement already satisfied: protobuf!=3.20.0,!=3.20.1,!=4.21.0,!=4.21.1,!=4.21.2,!=4.21.3,!=4.21.4,!=4.21.5,<6.0.0.dev0,>=3.19.5 in /usr/local/lib/python3.11/dist-packages (from google-api-core!=2.0.*,!=2.1.*,!=2.2.*,!=2.3.0,<3.0.0.dev0,>=1.31.5->google-api-python-client) (4.25.5)\n",
            "Requirement already satisfied: proto-plus<2.0.0dev,>=1.22.3 in /usr/local/lib/python3.11/dist-packages (from google-api-core!=2.0.*,!=2.1.*,!=2.2.*,!=2.3.0,<3.0.0.dev0,>=1.31.5->google-api-python-client) (1.25.0)\n",
            "Requirement already satisfied: requests<3.0.0.dev0,>=2.18.0 in /usr/local/lib/python3.11/dist-packages (from google-api-core!=2.0.*,!=2.1.*,!=2.2.*,!=2.3.0,<3.0.0.dev0,>=1.31.5->google-api-python-client) (2.32.3)\n",
            "Requirement already satisfied: pyparsing!=3.0.0,!=3.0.1,!=3.0.2,!=3.0.3,<4,>=2.4.2 in /usr/local/lib/python3.11/dist-packages (from httplib2>=0.19.0->google-auth-httplib2) (3.2.1)\n",
            "Requirement already satisfied: pyasn1<0.7.0,>=0.4.6 in /usr/local/lib/python3.11/dist-packages (from pyasn1-modules>=0.2.1->google-auth) (0.6.1)\n",
            "Requirement already satisfied: oauthlib>=3.0.0 in /usr/local/lib/python3.11/dist-packages (from requests-oauthlib>=0.7.0->google-auth-oauthlib) (3.2.2)\n",
            "Requirement already satisfied: charset-normalizer<4,>=2 in /usr/local/lib/python3.11/dist-packages (from requests<3.0.0.dev0,>=2.18.0->google-api-core!=2.0.*,!=2.1.*,!=2.2.*,!=2.3.0,<3.0.0.dev0,>=1.31.5->google-api-python-client) (3.4.1)\n",
            "Requirement already satisfied: idna<4,>=2.5 in /usr/local/lib/python3.11/dist-packages (from requests<3.0.0.dev0,>=2.18.0->google-api-core!=2.0.*,!=2.1.*,!=2.2.*,!=2.3.0,<3.0.0.dev0,>=1.31.5->google-api-python-client) (3.10)\n",
            "Requirement already satisfied: urllib3<3,>=1.21.1 in /usr/local/lib/python3.11/dist-packages (from requests<3.0.0.dev0,>=2.18.0->google-api-core!=2.0.*,!=2.1.*,!=2.2.*,!=2.3.0,<3.0.0.dev0,>=1.31.5->google-api-python-client) (2.3.0)\n",
            "Requirement already satisfied: certifi>=2017.4.17 in /usr/local/lib/python3.11/dist-packages (from requests<3.0.0.dev0,>=2.18.0->google-api-core!=2.0.*,!=2.1.*,!=2.2.*,!=2.3.0,<3.0.0.dev0,>=1.31.5->google-api-python-client) (2024.12.14)\n"
          ]
        }
      ],
      "source": [
        "!pip install google-auth google-auth-oauthlib google-auth-httplib2 google-api-python-client"
      ]
    },
    {
      "cell_type": "code",
      "source": [
        "# Import required modules\n",
        "import re\n",
        "from googleapiclient.discovery import build\n",
        "from googleapiclient.http import MediaFileUpload\n",
        "from google.oauth2.credentials import Credentials\n",
        "from google.colab import auth"
      ],
      "metadata": {
        "id": "BIeXi229RVmd"
      },
      "execution_count": null,
      "outputs": []
    },
    {
      "cell_type": "code",
      "source": [
        "# Authenticate the Colab environment\n",
        "auth.authenticate_user()"
      ],
      "metadata": {
        "id": "Y5J2f8ueRXMh"
      },
      "execution_count": null,
      "outputs": []
    },
    {
      "cell_type": "code",
      "source": [
        "# Define the API scope\n",
        "SCOPES = ['https://www.googleapis.com/auth/documents']"
      ],
      "metadata": {
        "id": "tDO5RQqSVVCc"
      },
      "execution_count": null,
      "outputs": []
    },
    {
      "cell_type": "code",
      "source": [
        "# Build the Google Docs API service\n",
        "from google.auth.transport.requests import Request\n",
        "from google.auth import default"
      ],
      "metadata": {
        "id": "X3NjO9YDVwn-"
      },
      "execution_count": null,
      "outputs": []
    },
    {
      "cell_type": "code",
      "source": [
        "creds, _ = default(scopes=SCOPES)\n",
        "docs_service = build('docs', 'v1', credentials=creds)"
      ],
      "metadata": {
        "id": "WxxptAzgV8Iq"
      },
      "execution_count": null,
      "outputs": []
    },
    {
      "cell_type": "code",
      "source": [
        "def markdown_to_google_docs_requests(markdown_text):\n",
        "    import re\n",
        "\n",
        "    requests = []\n",
        "    current_index = 1  # Initialize startIndex to 1 (Google Docs indices are 1-based)\n",
        "\n",
        "    lines = markdown_text.split(\"\\n\")\n",
        "    for line in lines:\n",
        "        line = line.strip()\n",
        "\n",
        "        # Heading 1: Main title\n",
        "        if line.startswith(\"# \"):\n",
        "            text = f\"{line[2:]}\\n\\n\"\n",
        "            requests.append({'insertText': {'location': {'index': current_index}, 'text': text}})\n",
        "            requests.append({\n",
        "                'updateParagraphStyle': {\n",
        "                    'range': {'startIndex': current_index, 'endIndex': current_index + len(text)},\n",
        "                    'paragraphStyle': {'namedStyleType': 'HEADING_1'},\n",
        "                    'fields': 'namedStyleType'\n",
        "                }\n",
        "            })\n",
        "            current_index += len(text)\n",
        "\n",
        "        # Heading 2: Section headers\n",
        "        elif line.startswith(\"## \"):\n",
        "            text = f\"{line[3:]}\\n\\n\"\n",
        "            requests.append({'insertText': {'location': {'index': current_index}, 'text': text}})\n",
        "            requests.append({\n",
        "                'updateParagraphStyle': {\n",
        "                    'range': {'startIndex': current_index, 'endIndex': current_index + len(text)},\n",
        "                    'paragraphStyle': {'namedStyleType': 'HEADING_2'},\n",
        "                    'fields': 'namedStyleType'\n",
        "                }\n",
        "            })\n",
        "            current_index += len(text)\n",
        "\n",
        "        # Heading 3: Sub-section headers\n",
        "        elif line.startswith(\"### \"):\n",
        "            text = f\"{line[4:]}\\n\\n\"\n",
        "            requests.append({'insertText': {'location': {'index': current_index}, 'text': text}})\n",
        "            requests.append({\n",
        "                'updateParagraphStyle': {\n",
        "                    'range': {'startIndex': current_index, 'endIndex': current_index + len(text)},\n",
        "                    'paragraphStyle': {'namedStyleType': 'HEADING_3'},\n",
        "                    'fields': 'namedStyleType'\n",
        "                }\n",
        "            })\n",
        "            current_index += len(text)\n",
        "\n",
        "        # Checkbox items\n",
        "        elif line.startswith(\"- [ ]\"):\n",
        "            text = f\"☐ {line[5:]}\\n\"\n",
        "            requests.append({'insertText': {'location': {'index': current_index}, 'text': text}})\n",
        "            current_index += len(text)\n",
        "\n",
        "        # Bullet points\n",
        "        elif line.startswith(\"*\") or line.startswith(\"-\"):\n",
        "            text = f\"• {line[1:].strip()}\\n\"\n",
        "            requests.append({'insertText': {'location': {'index': current_index}, 'text': text}})\n",
        "            current_index += len(text)\n",
        "\n",
        "        # Regular text\n",
        "        elif line:\n",
        "            text = f\"{line}\\n\"\n",
        "            requests.append({'insertText': {'location': {'index': current_index}, 'text': text}})\n",
        "            current_index += len(text)\n",
        "\n",
        "        # Blank lines\n",
        "        else:\n",
        "            text = \"\\n\"\n",
        "            requests.append({'insertText': {'location': {'index': current_index}, 'text': text}})\n",
        "            current_index += len(text)\n",
        "\n",
        "    return requests"
      ],
      "metadata": {
        "id": "jytVhTEzV9cu"
      },
      "execution_count": null,
      "outputs": []
    },
    {
      "cell_type": "code",
      "source": [
        "\n",
        "# Markdown meeting notes as a string\n",
        "markdown_notes = \"\"\"\n",
        "# Product Team Sync - May 15, 2023\n",
        "\n",
        "## Attendees\n",
        "- Sarah Chen (Product Lead)\n",
        "- Mike Johnson (Engineering)\n",
        "- Anna Smith (Design)\n",
        "- David Park (QA)\n",
        "\n",
        "## Agenda\n",
        "\n",
        "### 1. Sprint Review\n",
        "* Completed Features\n",
        "  * User authentication flow\n",
        "  * Dashboard redesign\n",
        "  * Performance optimization\n",
        "    * Reduced load time by 40%\n",
        "    * Implemented caching solution\n",
        "* Pending Items\n",
        "  * Mobile responsive fixes\n",
        "  * Beta testing feedback integration\n",
        "\n",
        "### 2. Current Challenges\n",
        "* Resource constraints in QA team\n",
        "* Third-party API integration delays\n",
        "* User feedback on new UI\n",
        "  * Navigation confusion\n",
        "  * Color contrast issues\n",
        "\n",
        "### 3. Next Sprint Planning\n",
        "* Priority Features\n",
        "  * Payment gateway integration\n",
        "  * User profile enhancement\n",
        "  * Analytics dashboard\n",
        "* Technical Debt\n",
        "  * Code refactoring\n",
        "  * Documentation updates\n",
        "\n",
        "## Action Items\n",
        "- [ ] @sarah: Finalize Q3 roadmap by Friday\n",
        "- [ ] @mike: Schedule technical review for payment integration\n",
        "- [ ] @anna: Share updated design system documentation\n",
        "- [ ] @david: Prepare QA resource allocation proposal\n",
        "\n",
        "## Next Steps\n",
        "* Schedule individual team reviews\n",
        "* Update sprint board\n",
        "* Share meeting summary with stakeholders\n",
        "\n",
        "## Notes\n",
        "* Next sync scheduled for May 22, 2023\n",
        "* Platform demo for stakeholders on May 25\n",
        "* Remember to update JIRA tickets\n",
        "\n",
        "---\n",
        "Meeting recorded by: Sarah Chen\n",
        "Duration: 45 minutes\n",
        "\"\"\""
      ],
      "metadata": {
        "id": "DcTJcVp8Kt17"
      },
      "execution_count": null,
      "outputs": []
    },
    {
      "cell_type": "code",
      "source": [
        "# Convert markdown to Google Docs API requests\n",
        "requests = markdown_to_google_docs_requests(markdown_notes)"
      ],
      "metadata": {
        "id": "atNP6zi-Kvwf"
      },
      "execution_count": null,
      "outputs": []
    },
    {
      "cell_type": "code",
      "source": [
        "# Create a new Google Doc\n",
        "doc = docs_service.documents().create(body={'title': 'Product Team Sync Notes'}).execute()"
      ],
      "metadata": {
        "id": "w49cQkRgLJrC"
      },
      "execution_count": null,
      "outputs": []
    },
    {
      "cell_type": "code",
      "source": [
        "# Get the document ID\n",
        "doc_id = doc.get('documentId')"
      ],
      "metadata": {
        "id": "78sAv4b-LPX9"
      },
      "execution_count": null,
      "outputs": []
    },
    {
      "cell_type": "code",
      "source": [
        "# Send the formatting requests to the Google Docs API\n",
        "docs_service.documents().batchUpdate(documentId=doc_id, body={'requests': requests}).execute()"
      ],
      "metadata": {
        "colab": {
          "base_uri": "https://localhost:8080/"
        },
        "id": "ozilvVuvLT5e",
        "outputId": "c650fec9-52fa-4b77-f43b-f174644d1429"
      },
      "execution_count": null,
      "outputs": [
        {
          "output_type": "execute_result",
          "data": {
            "text/plain": [
              "{'replies': [{},\n",
              "  {},\n",
              "  {},\n",
              "  {},\n",
              "  {},\n",
              "  {},\n",
              "  {},\n",
              "  {},\n",
              "  {},\n",
              "  {},\n",
              "  {},\n",
              "  {},\n",
              "  {},\n",
              "  {},\n",
              "  {},\n",
              "  {},\n",
              "  {},\n",
              "  {},\n",
              "  {},\n",
              "  {},\n",
              "  {},\n",
              "  {},\n",
              "  {},\n",
              "  {},\n",
              "  {},\n",
              "  {},\n",
              "  {},\n",
              "  {},\n",
              "  {},\n",
              "  {},\n",
              "  {},\n",
              "  {},\n",
              "  {},\n",
              "  {},\n",
              "  {},\n",
              "  {},\n",
              "  {},\n",
              "  {},\n",
              "  {},\n",
              "  {},\n",
              "  {},\n",
              "  {},\n",
              "  {},\n",
              "  {},\n",
              "  {},\n",
              "  {},\n",
              "  {},\n",
              "  {},\n",
              "  {},\n",
              "  {},\n",
              "  {},\n",
              "  {},\n",
              "  {},\n",
              "  {},\n",
              "  {},\n",
              "  {},\n",
              "  {},\n",
              "  {},\n",
              "  {},\n",
              "  {},\n",
              "  {},\n",
              "  {},\n",
              "  {},\n",
              "  {},\n",
              "  {},\n",
              "  {},\n",
              "  {}],\n",
              " 'writeControl': {'requiredRevisionId': 'ALBJ4LutdBKfQ45BYR-kGwXrzH-O_7ADfb8fzsyRE5jCtNG64QfGjXpwcLd6Z60bgTU890dyhhNnOHzoOPXWjw'},\n",
              " 'documentId': '1MozdfM2EghntQmjQFMA3A4jrUvKQijHbwgV_HalmOkw'}"
            ]
          },
          "metadata": {},
          "execution_count": 17
        }
      ]
    },
    {
      "cell_type": "code",
      "source": [
        "print(f\"Document created successfully: https://docs.google.com/document/d/{doc_id}/edit\")"
      ],
      "metadata": {
        "colab": {
          "base_uri": "https://localhost:8080/"
        },
        "id": "J82sXfi3LVoM",
        "outputId": "a350c401-501a-4bb3-ae54-1076e853e87d"
      },
      "execution_count": null,
      "outputs": [
        {
          "output_type": "stream",
          "name": "stdout",
          "text": [
            "Document created successfully: https://docs.google.com/document/d/1MozdfM2EghntQmjQFMA3A4jrUvKQijHbwgV_HalmOkw/edit\n"
          ]
        }
      ]
    }
  ]
}